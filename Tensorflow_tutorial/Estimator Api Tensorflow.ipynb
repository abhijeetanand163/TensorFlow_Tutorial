{
 "cells": [
  {
   "cell_type": "code",
   "execution_count": null,
   "metadata": {},
   "outputs": [],
   "source": []
  },
  {
   "cell_type": "code",
   "execution_count": null,
   "metadata": {},
   "outputs": [],
   "source": []
  },
  {
   "cell_type": "markdown",
   "metadata": {},
   "source": [
    "#### Estimator Api focus on Data Science! "
   ]
  },
  {
   "cell_type": "markdown",
   "metadata": {},
   "source": [
    "### Components of Estimator API's !!! High Level API for production ready models !!"
   ]
  },
  {
   "cell_type": "markdown",
   "metadata": {},
   "source": [
    "# From Small to big to prod with the Estimator API's"
   ]
  },
  {
   "cell_type": "markdown",
   "metadata": {},
   "source": [
    "1. Quick Model\n",
    "2. Checkpointing\n",
    "3. Out of memory dataset \n",
    "4. Train eval monitor\n",
    "5. Distributed training\n",
    "6. Hyper parameter tuning\n",
    "7. Production: Serving predictions from a trained model"
   ]
  },
  {
   "cell_type": "markdown",
   "metadata": {},
   "source": [
    "## Pre-made estiamtors that can all be used in the same way\n"
   ]
  },
  {
   "cell_type": "markdown",
   "metadata": {},
   "source": [
    "<B> tf.estimator.Estimator. </B> , "
   ]
  },
  {
   "cell_type": "raw",
   "metadata": {},
   "source": [
    "Pre made Regressor : LinearRegressor\n",
    "                     , DNNLinearCombinedRegressor , ...\n",
    "                     \n",
    "Pre-made classifier  : Linear Classifier, DNNClassifier, DNNLinearCombinedClassifier\n",
    "            "
   ]
  },
  {
   "cell_type": "markdown",
   "metadata": {},
   "source": [
    "Note: DNNLinearCombinedClassifier also known as wide and deep model according to google deep research. It is used to power recomendation engine in google play !!"
   ]
  },
  {
   "cell_type": "markdown",
   "metadata": {},
   "source": [
    "##### It is really easy to try and test them all using pre-made estimator !!"
   ]
  },
  {
   "cell_type": "code",
   "execution_count": 4,
   "metadata": {},
   "outputs": [
    {
     "name": "stdout",
     "output_type": "stream",
     "text": [
      "INFO:tensorflow:Using default config.\n",
      "WARNING:tensorflow:Using temporary folder as model directory: /tmp/tmpsics59ud\n",
      "INFO:tensorflow:Using config: {'_model_dir': '/tmp/tmpsics59ud', '_tf_random_seed': None, '_save_summary_steps': 100, '_save_checkpoints_steps': None, '_save_checkpoints_secs': 600, '_session_config': allow_soft_placement: true\n",
      "graph_options {\n",
      "  rewrite_options {\n",
      "    meta_optimizer_iterations: ONE\n",
      "  }\n",
      "}\n",
      ", '_keep_checkpoint_max': 5, '_keep_checkpoint_every_n_hours': 10000, '_log_step_count_steps': 100, '_train_distribute': None, '_device_fn': None, '_protocol': None, '_eval_distribute': None, '_experimental_distribute': None, '_service': None, '_cluster_spec': <tensorflow.python.training.server_lib.ClusterSpec object at 0x7fe4cdadf860>, '_task_type': 'worker', '_task_id': 0, '_global_id_in_cluster': 0, '_master': '', '_evaluation_master': '', '_is_chief': True, '_num_ps_replicas': 0, '_num_worker_replicas': 1}\n"
     ]
    }
   ],
   "source": [
    "# Pre- made estimator use using Tensorflow. \n",
    "\n",
    "import tensorflow as tf\n",
    "\n",
    "featureColumns = [\n",
    "    tf.feature_column.numeric_column('sq_footage'),\n",
    "    tf.feature_column.categorical_column_with_vocabulary_list('type', ['house', 'apt'])\n",
    "]\n",
    "model  = tf.estimator.LinearRegressor(featureColumns)"
   ]
  },
  {
   "cell_type": "code",
   "execution_count": 5,
   "metadata": {},
   "outputs": [
    {
     "name": "stdout",
     "output_type": "stream",
     "text": [
      "WARNING:tensorflow:From /home/abhijeet/anaconda3/lib/python3.7/site-packages/tensorflow/python/framework/op_def_library.py:263: colocate_with (from tensorflow.python.framework.ops) is deprecated and will be removed in a future version.\n",
      "Instructions for updating:\n",
      "Colocations handled automatically by placer.\n",
      "INFO:tensorflow:Calling model_fn.\n",
      "WARNING:tensorflow:From /home/abhijeet/anaconda3/lib/python3.7/site-packages/tensorflow/python/feature_column/feature_column_v2.py:2703: to_float (from tensorflow.python.ops.math_ops) is deprecated and will be removed in a future version.\n",
      "Instructions for updating:\n",
      "Use tf.cast instead.\n",
      "WARNING:tensorflow:From /home/abhijeet/anaconda3/lib/python3.7/site-packages/tensorflow/python/ops/lookup_ops.py:1137: to_int64 (from tensorflow.python.ops.math_ops) is deprecated and will be removed in a future version.\n",
      "Instructions for updating:\n",
      "Use tf.cast instead.\n",
      "INFO:tensorflow:Done calling model_fn.\n",
      "INFO:tensorflow:Create CheckpointSaverHook.\n",
      "INFO:tensorflow:Graph was finalized.\n",
      "INFO:tensorflow:Running local_init_op.\n",
      "INFO:tensorflow:Done running local_init_op.\n",
      "INFO:tensorflow:Saving checkpoints for 0 into /tmp/tmpsics59ud/model.ckpt.\n",
      "INFO:tensorflow:loss = 9290000.0, step = 1\n",
      "INFO:tensorflow:Saving checkpoints for 100 into /tmp/tmpsics59ud/model.ckpt.\n",
      "INFO:tensorflow:Loss for final step: 144267.48.\n"
     ]
    },
    {
     "data": {
      "text/plain": [
       "<tensorflow_estimator.python.estimator.canned.linear.LinearRegressor at 0x7fe4cdadfa90>"
      ]
     },
     "execution_count": 5,
     "metadata": {},
     "output_type": "execute_result"
    }
   ],
   "source": [
    "# Training input function !!\n",
    "\n",
    "def train_input_fn():\n",
    "    features = { 'sq_footage': [1000, 2000, 3000, 1000, 2000, 3000],\n",
    "                 'type':    ['house', 'house', 'house', 'apt', 'apt', 'apt']\n",
    "               }\n",
    "    labels = [ 500, 1000, 1500, 700, 1300, 1900 ]\n",
    "    return features , labels\n",
    "\n",
    "model.train(train_input_fn, steps = 100)"
   ]
  },
  {
   "cell_type": "code",
   "execution_count": 6,
   "metadata": {},
   "outputs": [],
   "source": [
    "# now prediction !!\n",
    "def predict_input_fn():\n",
    "    features = { \"sq_footage\": [1500, 1800],\n",
    "                  \"type\": ['house', 'apt']\n",
    "                }\n",
    "    return features\n",
    "\n",
    "predictions = model.predict(predict_input_fn)\n"
   ]
  },
  {
   "cell_type": "code",
   "execution_count": 7,
   "metadata": {},
   "outputs": [
    {
     "name": "stdout",
     "output_type": "stream",
     "text": [
      "WARNING:tensorflow:Input graph does not use tf.data.Dataset or contain a QueueRunner. That means predict yields forever. This is probably a mistake.\n",
      "INFO:tensorflow:Calling model_fn.\n",
      "INFO:tensorflow:Done calling model_fn.\n",
      "INFO:tensorflow:Graph was finalized.\n",
      "WARNING:tensorflow:From /home/abhijeet/anaconda3/lib/python3.7/site-packages/tensorflow/python/training/saver.py:1266: checkpoint_exists (from tensorflow.python.training.checkpoint_management) is deprecated and will be removed in a future version.\n",
      "Instructions for updating:\n",
      "Use standard file APIs to check for files with this prefix.\n",
      "INFO:tensorflow:Restoring parameters from /tmp/tmpsics59ud/model.ckpt-100\n",
      "INFO:tensorflow:Running local_init_op.\n",
      "INFO:tensorflow:Done running local_init_op.\n",
      "{'predictions': array([855.93], dtype=float32)}\n"
     ]
    }
   ],
   "source": [
    "print(next(predictions))"
   ]
  },
  {
   "cell_type": "code",
   "execution_count": 8,
   "metadata": {},
   "outputs": [
    {
     "name": "stdout",
     "output_type": "stream",
     "text": [
      "INFO:tensorflow:Using default config.\n",
      "WARNING:tensorflow:Using temporary folder as model directory: /tmp/tmpzz98gl0q\n",
      "INFO:tensorflow:Using config: {'_model_dir': '/tmp/tmpzz98gl0q', '_tf_random_seed': None, '_save_summary_steps': 100, '_save_checkpoints_steps': None, '_save_checkpoints_secs': 600, '_session_config': allow_soft_placement: true\n",
      "graph_options {\n",
      "  rewrite_options {\n",
      "    meta_optimizer_iterations: ONE\n",
      "  }\n",
      "}\n",
      ", '_keep_checkpoint_max': 5, '_keep_checkpoint_every_n_hours': 10000, '_log_step_count_steps': 100, '_train_distribute': None, '_device_fn': None, '_protocol': None, '_eval_distribute': None, '_experimental_distribute': None, '_service': None, '_cluster_spec': <tensorflow.python.training.server_lib.ClusterSpec object at 0x7fe4c86c0c88>, '_task_type': 'worker', '_task_id': 0, '_global_id_in_cluster': 0, '_master': '', '_evaluation_master': '', '_is_chief': True, '_num_ps_replicas': 0, '_num_worker_replicas': 1}\n"
     ]
    }
   ],
   "source": [
    "model = tf.estimator.DNNRegressor(hidden_units = [3, 2],\n",
    "    feature_columns = featureColumns,\n",
    "    activation_fn=tf.nn.relu\n",
    "    )"
   ]
  },
  {
   "cell_type": "markdown",
   "metadata": {},
   "source": [
    "## Housing Price Model !!"
   ]
  },
  {
   "cell_type": "code",
   "execution_count": 30,
   "metadata": {},
   "outputs": [],
   "source": [
    "import tensorflow as tf\n",
    "import numpy as np\n",
    "import shutil"
   ]
  },
  {
   "cell_type": "code",
   "execution_count": 31,
   "metadata": {},
   "outputs": [],
   "source": [
    "shutil.rmtree(\"outdir\", ignore_errors = True) # start fresh each time !!"
   ]
  },
  {
   "cell_type": "code",
   "execution_count": 11,
   "metadata": {},
   "outputs": [
    {
     "name": "stdout",
     "output_type": "stream",
     "text": [
      "INFO:tensorflow:Using default config.\n",
      "INFO:tensorflow:Using config: {'_model_dir': 'outdir', '_tf_random_seed': None, '_save_summary_steps': 100, '_save_checkpoints_steps': None, '_save_checkpoints_secs': 600, '_session_config': allow_soft_placement: true\n",
      "graph_options {\n",
      "  rewrite_options {\n",
      "    meta_optimizer_iterations: ONE\n",
      "  }\n",
      "}\n",
      ", '_keep_checkpoint_max': 5, '_keep_checkpoint_every_n_hours': 10000, '_log_step_count_steps': 100, '_train_distribute': None, '_device_fn': None, '_protocol': None, '_eval_distribute': None, '_experimental_distribute': None, '_service': None, '_cluster_spec': <tensorflow.python.training.server_lib.ClusterSpec object at 0x7fe4c86dbc18>, '_task_type': 'worker', '_task_id': 0, '_global_id_in_cluster': 0, '_master': '', '_evaluation_master': '', '_is_chief': True, '_num_ps_replicas': 0, '_num_worker_replicas': 1}\n"
     ]
    }
   ],
   "source": [
    "# defining train input function !!\n",
    "def train_input_fn():\n",
    "    features = { 'sq_footage': [1000, 2000, 3000, 1000, 2000, 3000],\n",
    "                 'type':    ['house', 'house', 'house', 'apt', 'apt', 'apt']\n",
    "               }\n",
    "    labels = [ 500, 1000, 1500, 700, 1300, 1900 ] # in thousand of dollars!\n",
    "    return features , labels\n",
    "\n",
    "model  = tf.estimator.LinearRegressor(featureColumns, \"outdir\")"
   ]
  },
  {
   "cell_type": "code",
   "execution_count": 12,
   "metadata": {},
   "outputs": [
    {
     "name": "stdout",
     "output_type": "stream",
     "text": [
      "INFO:tensorflow:Calling model_fn.\n",
      "INFO:tensorflow:Done calling model_fn.\n",
      "INFO:tensorflow:Create CheckpointSaverHook.\n",
      "INFO:tensorflow:Graph was finalized.\n",
      "INFO:tensorflow:Running local_init_op.\n",
      "INFO:tensorflow:Done running local_init_op.\n",
      "INFO:tensorflow:Saving checkpoints for 0 into outdir/model.ckpt.\n",
      "INFO:tensorflow:loss = 9290000.0, step = 1\n",
      "INFO:tensorflow:global_step/sec: 1516.71\n",
      "INFO:tensorflow:loss = 144242.62, step = 101 (0.066 sec)\n",
      "INFO:tensorflow:global_step/sec: 3249.23\n",
      "INFO:tensorflow:loss = 142023.2, step = 201 (0.031 sec)\n",
      "INFO:tensorflow:global_step/sec: 2607.21\n",
      "INFO:tensorflow:loss = 140171.67, step = 301 (0.038 sec)\n",
      "INFO:tensorflow:global_step/sec: 2356.31\n",
      "INFO:tensorflow:loss = 138553.88, step = 401 (0.042 sec)\n",
      "INFO:tensorflow:global_step/sec: 2944.03\n",
      "INFO:tensorflow:loss = 137101.47, step = 501 (0.034 sec)\n",
      "INFO:tensorflow:global_step/sec: 2630.61\n",
      "INFO:tensorflow:loss = 135774.66, step = 601 (0.038 sec)\n",
      "INFO:tensorflow:global_step/sec: 3255.99\n",
      "INFO:tensorflow:loss = 134547.11, step = 701 (0.031 sec)\n",
      "INFO:tensorflow:global_step/sec: 2102.88\n",
      "INFO:tensorflow:loss = 133400.81, step = 801 (0.048 sec)\n",
      "INFO:tensorflow:global_step/sec: 2994.11\n",
      "INFO:tensorflow:loss = 132322.64, step = 901 (0.033 sec)\n",
      "INFO:tensorflow:global_step/sec: 2516.61\n",
      "INFO:tensorflow:loss = 131302.42, step = 1001 (0.040 sec)\n",
      "INFO:tensorflow:global_step/sec: 3285.89\n",
      "INFO:tensorflow:loss = 130332.56, step = 1101 (0.030 sec)\n",
      "INFO:tensorflow:global_step/sec: 2081.44\n",
      "INFO:tensorflow:loss = 129406.88, step = 1201 (0.048 sec)\n",
      "INFO:tensorflow:global_step/sec: 2782.2\n",
      "INFO:tensorflow:loss = 128520.266, step = 1301 (0.036 sec)\n",
      "INFO:tensorflow:global_step/sec: 2938.09\n",
      "INFO:tensorflow:loss = 127668.76, step = 1401 (0.035 sec)\n",
      "INFO:tensorflow:global_step/sec: 2143.23\n",
      "INFO:tensorflow:loss = 126848.92, step = 1501 (0.046 sec)\n",
      "INFO:tensorflow:global_step/sec: 3038.03\n",
      "INFO:tensorflow:loss = 126057.62, step = 1601 (0.033 sec)\n",
      "INFO:tensorflow:global_step/sec: 2760.68\n",
      "INFO:tensorflow:loss = 125292.484, step = 1701 (0.036 sec)\n",
      "INFO:tensorflow:global_step/sec: 3319.51\n",
      "INFO:tensorflow:loss = 124551.55, step = 1801 (0.030 sec)\n",
      "INFO:tensorflow:global_step/sec: 2444.18\n",
      "INFO:tensorflow:loss = 123832.59, step = 1901 (0.041 sec)\n",
      "INFO:tensorflow:Saving checkpoints for 2000 into outdir/model.ckpt.\n",
      "INFO:tensorflow:Loss for final step: 123141.125.\n"
     ]
    },
    {
     "data": {
      "text/plain": [
       "<tensorflow_estimator.python.estimator.canned.linear.LinearRegressor at 0x7fe4c86db9e8>"
      ]
     },
     "execution_count": 12,
     "metadata": {},
     "output_type": "execute_result"
    }
   ],
   "source": [
    "model.train(train_input_fn, steps = 2000)"
   ]
  },
  {
   "cell_type": "code",
   "execution_count": 14,
   "metadata": {},
   "outputs": [
    {
     "name": "stdout",
     "output_type": "stream",
     "text": [
      "WARNING:tensorflow:Input graph does not use tf.data.Dataset or contain a QueueRunner. That means predict yields forever. This is probably a mistake.\n",
      "INFO:tensorflow:Calling model_fn.\n",
      "INFO:tensorflow:Done calling model_fn.\n",
      "INFO:tensorflow:Graph was finalized.\n",
      "INFO:tensorflow:Restoring parameters from outdir/model.ckpt-2000\n",
      "INFO:tensorflow:Running local_init_op.\n",
      "INFO:tensorflow:Done running local_init_op.\n",
      "{'predictions': array([844.07806], dtype=float32)}\n",
      "{'predictions': array([1042.9653], dtype=float32)}\n",
      "{'predictions': array([1414.5388], dtype=float32)}\n",
      "{'predictions': array([871.82715], dtype=float32)}\n"
     ]
    }
   ],
   "source": [
    "# now prediction !!\n",
    "def predict_input_fn():\n",
    "    features = { \"sq_footage\": [1500, 1800, 2500, 1500],\n",
    "                  \"type\": ['house', 'apt', 'house', 'apt']\n",
    "                }\n",
    "    return features\n",
    "\n",
    "predictions = model.predict(predict_input_fn)\n",
    "print(next(predictions))\n",
    "print(next(predictions))\n",
    "print(next(predictions))\n",
    "print(next(predictions))\n"
   ]
  },
  {
   "cell_type": "markdown",
   "metadata": {},
   "source": [
    "#### Model Check Points !!"
   ]
  },
  {
   "cell_type": "markdown",
   "metadata": {},
   "source": [
    "They are important because : \n",
    "    1. They allow us to continue training\n",
    "    2. Resume on failure\n",
    "    3. Predict from trained model"
   ]
  },
  {
   "cell_type": "markdown",
   "metadata": {},
   "source": [
    "#### We need to save our trained models as some training takes really long long time !! So we will put the check points !!"
   ]
  },
  {
   "cell_type": "code",
   "execution_count": 21,
   "metadata": {},
   "outputs": [
    {
     "name": "stdout",
     "output_type": "stream",
     "text": [
      "INFO:tensorflow:Using default config.\n",
      "INFO:tensorflow:Using config: {'_model_dir': './model', '_tf_random_seed': None, '_save_summary_steps': 100, '_save_checkpoints_steps': None, '_save_checkpoints_secs': 600, '_session_config': allow_soft_placement: true\n",
      "graph_options {\n",
      "  rewrite_options {\n",
      "    meta_optimizer_iterations: ONE\n",
      "  }\n",
      "}\n",
      ", '_keep_checkpoint_max': 5, '_keep_checkpoint_every_n_hours': 10000, '_log_step_count_steps': 100, '_train_distribute': None, '_device_fn': None, '_protocol': None, '_eval_distribute': None, '_experimental_distribute': None, '_service': None, '_cluster_spec': <tensorflow.python.training.server_lib.ClusterSpec object at 0x7fe4cae7cac8>, '_task_type': 'worker', '_task_id': 0, '_global_id_in_cluster': 0, '_master': '', '_evaluation_master': '', '_is_chief': True, '_num_ps_replicas': 0, '_num_worker_replicas': 1}\n",
      "INFO:tensorflow:Calling model_fn.\n",
      "INFO:tensorflow:Done calling model_fn.\n",
      "INFO:tensorflow:Create CheckpointSaverHook.\n",
      "INFO:tensorflow:Graph was finalized.\n",
      "INFO:tensorflow:Restoring parameters from ./model/model.ckpt-200\n",
      "INFO:tensorflow:Running local_init_op.\n",
      "INFO:tensorflow:Done running local_init_op.\n",
      "INFO:tensorflow:Saving checkpoints for 200 into ./model/model.ckpt.\n",
      "INFO:tensorflow:loss = 142023.2, step = 201\n",
      "INFO:tensorflow:Saving checkpoints for 300 into ./model/model.ckpt.\n",
      "INFO:tensorflow:Loss for final step: 140188.94.\n"
     ]
    },
    {
     "data": {
      "text/plain": [
       "<tensorflow_estimator.python.estimator.canned.linear.LinearRegressor at 0x7fe4cae7c470>"
      ]
     },
     "execution_count": 21,
     "metadata": {},
     "output_type": "execute_result"
    }
   ],
   "source": [
    "\n",
    "model = tf.estimator.LinearRegressor(featureColumns, './model') # './model' is where to put the check points!\n",
    "model.train(train_input_fn, steps = 100)"
   ]
  },
  {
   "cell_type": "code",
   "execution_count": 22,
   "metadata": {},
   "outputs": [
    {
     "name": "stdout",
     "output_type": "stream",
     "text": [
      "INFO:tensorflow:Using default config.\n",
      "INFO:tensorflow:Using config: {'_model_dir': './model', '_tf_random_seed': None, '_save_summary_steps': 100, '_save_checkpoints_steps': None, '_save_checkpoints_secs': 600, '_session_config': allow_soft_placement: true\n",
      "graph_options {\n",
      "  rewrite_options {\n",
      "    meta_optimizer_iterations: ONE\n",
      "  }\n",
      "}\n",
      ", '_keep_checkpoint_max': 5, '_keep_checkpoint_every_n_hours': 10000, '_log_step_count_steps': 100, '_train_distribute': None, '_device_fn': None, '_protocol': None, '_eval_distribute': None, '_experimental_distribute': None, '_service': None, '_cluster_spec': <tensorflow.python.training.server_lib.ClusterSpec object at 0x7fe4cae84b38>, '_task_type': 'worker', '_task_id': 0, '_global_id_in_cluster': 0, '_master': '', '_evaluation_master': '', '_is_chief': True, '_num_ps_replicas': 0, '_num_worker_replicas': 1}\n"
     ]
    }
   ],
   "source": [
    "# Now restoring and prediction with the model!\n",
    "\n",
    "trained_model = tf.estimator.LinearRegressor(featureColumns, './model')\n",
    "predictions = trained_model.predict(predict_input_fn)"
   ]
  },
  {
   "cell_type": "code",
   "execution_count": 24,
   "metadata": {},
   "outputs": [
    {
     "name": "stdout",
     "output_type": "stream",
     "text": [
      "{'predictions': array([1032.6805], dtype=float32)}\n",
      "{'predictions': array([1424.6254], dtype=float32)}\n",
      "{'predictions': array([861.3828], dtype=float32)}\n",
      "{'predictions': array([853.6331], dtype=float32)}\n"
     ]
    }
   ],
   "source": [
    "print(next(predictions))\n",
    "print(next(predictions))\n",
    "print(next(predictions))\n",
    "print(next(predictions))\n"
   ]
  },
  {
   "cell_type": "code",
   "execution_count": 25,
   "metadata": {},
   "outputs": [
    {
     "name": "stdout",
     "output_type": "stream",
     "text": [
      "INFO:tensorflow:Using default config.\n",
      "INFO:tensorflow:Using config: {'_model_dir': './model', '_tf_random_seed': None, '_save_summary_steps': 100, '_save_checkpoints_steps': None, '_save_checkpoints_secs': 600, '_session_config': allow_soft_placement: true\n",
      "graph_options {\n",
      "  rewrite_options {\n",
      "    meta_optimizer_iterations: ONE\n",
      "  }\n",
      "}\n",
      ", '_keep_checkpoint_max': 5, '_keep_checkpoint_every_n_hours': 10000, '_log_step_count_steps': 100, '_train_distribute': None, '_device_fn': None, '_protocol': None, '_eval_distribute': None, '_experimental_distribute': None, '_service': None, '_cluster_spec': <tensorflow.python.training.server_lib.ClusterSpec object at 0x7fe4caeca9e8>, '_task_type': 'worker', '_task_id': 0, '_global_id_in_cluster': 0, '_master': '', '_evaluation_master': '', '_is_chief': True, '_num_ps_replicas': 0, '_num_worker_replicas': 1}\n",
      "INFO:tensorflow:Calling model_fn.\n",
      "INFO:tensorflow:Done calling model_fn.\n",
      "INFO:tensorflow:Create CheckpointSaverHook.\n",
      "INFO:tensorflow:Graph was finalized.\n",
      "INFO:tensorflow:Restoring parameters from ./model/model.ckpt-300\n",
      "INFO:tensorflow:Running local_init_op.\n",
      "INFO:tensorflow:Done running local_init_op.\n",
      "INFO:tensorflow:Saving checkpoints for 300 into ./model/model.ckpt.\n",
      "INFO:tensorflow:loss = 140171.67, step = 301\n",
      "INFO:tensorflow:Saving checkpoints for 400 into ./model/model.ckpt.\n",
      "INFO:tensorflow:Loss for final step: 138569.03.\n"
     ]
    },
    {
     "data": {
      "text/plain": [
       "<tensorflow_estimator.python.estimator.canned.linear.LinearRegressor at 0x7fe4caeca8d0>"
      ]
     },
     "execution_count": 25,
     "metadata": {},
     "output_type": "execute_result"
    }
   ],
   "source": [
    "### Training will also resume form the latest checkpoint\n",
    "model = tf.estimator.LinearRegressor(featureColumns, './model')\n",
    "model.train(train_input_fn, steps = 100)"
   ]
  },
  {
   "cell_type": "markdown",
   "metadata": {},
   "source": [
    "##### If we want to start from scrtatch. It's better to delete this folder, without any checkpoint , the extimator will start from Scratch !! Specially delete , when you have changed the model. "
   ]
  },
  {
   "cell_type": "code",
   "execution_count": 28,
   "metadata": {},
   "outputs": [],
   "source": [
    "# Training on in-memory dataset!!\n",
    "# Usually numpy array or Pandas dataframes - ( we can use them directly)\n",
    "# In numpy we define feature names \n",
    "\n",
    "def numpy_train_input_fn(sqft, prop_type, price): #np arrays\n",
    "    return tf.estimator.inputs.numpy_input_fn(\n",
    "    x = { 'sq_footage': sqft, 'type': prop_type}, \n",
    "        y = price,\n",
    "        batch_size = 128,\n",
    "        num_epochs = 10,\n",
    "        shuffle = True,\n",
    "        queue_capacity = 1000\n",
    "    )\n",
    "\n",
    "# In pandas we don't even have to define feature name. \n",
    "\n",
    "def pandas_train_input_fn(df): # a pandas dataframe\n",
    "    return tf.estimator.inputs.pandas_input_fn(\n",
    "    x = df, # \"sq_footage\", \"type\" selected\n",
    "        # automatically because of feature\n",
    "        # columns defination\n",
    "    y = df['price'],\n",
    "        batch_size = 128,\n",
    "        num_epochs = 10,\n",
    "        shuffle = True,\n",
    "        queue_capacity = 1000\n",
    "    )\n",
    "    \n",
    "# training will run until the training data will exhaust or n times training data based on the num_epochs we are given !!\n",
    "\n",
    "model.train(pandas_train_input_fn(df))  # So train until input exhausetd(10 epochs) starting from checkpoint. \n",
    "model.train(pandas_train_input_fn(df), steps = 1000)  # 1000 additional steps from checkpoint, 1 step here is crossponding to 1 batch of input data. \n",
    "model.train(pandas_train_input_fn(df), max_steps = 1000)  # 1000 steps - might be nothing if checkpoint was already there. \n"
   ]
  },
  {
   "cell_type": "markdown",
   "metadata": {},
   "source": [
    "### So now training data over entire dataset !!"
   ]
  },
  {
   "cell_type": "code",
   "execution_count": null,
   "metadata": {},
   "outputs": [],
   "source": [
    "# defining feature column\n",
    "featureColumns = [\n",
    "    tf.feature_column.numeric_column('sq_footage'),\n",
    "    tf.feature_column.categorical_column_with_vocabulary_list('type', ['house', 'apt']),\n",
    "    tf.feature_column.numeric_column('nbeds')\n",
    "]\n",
    "\n",
    "# defining model \n",
    "model  = tf.estimator.LinearRegressor(featureColumns)\n",
    "\n",
    "# defining dataset and how training will happen\n",
    "\n",
    "def pandas_train_input_fn(df): # a pandas dataframe\n",
    "    return tf.estimator.inputs.pandas_input_fn(\n",
    "    x = df, # \"sq_footage\", \"type\" selected\n",
    "        # automatically because of feature\n",
    "        # columns defination\n",
    "    y = df['price'],\n",
    "        batch_size = 128, num_epochs = 10, shuffle = True, queue_capacity = 1000\n",
    "    )\n",
    "\n",
    "model.train(train_input_fn(df))"
   ]
  },
  {
   "cell_type": "code",
   "execution_count": null,
   "metadata": {},
   "outputs": [],
   "source": []
  }
 ],
 "metadata": {
  "kernelspec": {
   "display_name": "Python 3",
   "language": "python",
   "name": "python3"
  },
  "language_info": {
   "codemirror_mode": {
    "name": "ipython",
    "version": 3
   },
   "file_extension": ".py",
   "mimetype": "text/x-python",
   "name": "python",
   "nbconvert_exporter": "python",
   "pygments_lexer": "ipython3",
   "version": "3.7.2"
  }
 },
 "nbformat": 4,
 "nbformat_minor": 2
}
